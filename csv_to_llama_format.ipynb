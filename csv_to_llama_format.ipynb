{
  "nbformat": 4,
  "nbformat_minor": 0,
  "metadata": {
    "colab": {
      "provenance": []
    },
    "kernelspec": {
      "name": "python3",
      "display_name": "Python 3"
    },
    "language_info": {
      "name": "python"
    }
  },
  "cells": [
    {
      "cell_type": "code",
      "source": [
        "!pip install transformers sentencepiece\n",
        "!pip install bitsandbytes\n",
        "!pip install -U bitsandbytes\n",
        "!pip install trl\n",
        "!pip install peft\n",
        "\n",
        "import os\n",
        "import torch\n",
        "import pandas as pd\n",
        "from google.colab import files\n",
        "from transformers import (\n",
        "    AutoModelForCausalLM,\n",
        "    AutoTokenizer,\n",
        "    BitsAndBytesConfig,\n",
        "    TrainingArguments,\n",
        "    pipeline,\n",
        "    logging,\n",
        ")\n",
        "\n",
        "from peft import LoraConfig\n",
        "\n",
        "from trl import SFTTrainer\n",
        "from transformers import DataCollatorForLanguageModeling\n",
        "from datasets import Dataset\n",
        "from huggingface_hub import login\n",
        "\n",
        "from datasets import load_dataset\n",
        "login(\"//yourlogin\")\n",
        "\n",
        "ds = load_dataset(\"wikimedia/wikipedia\", \"20231101.tr\")"
      ],
      "metadata": {
        "id": "v0Nd0CLtlg2Q"
      },
      "execution_count": null,
      "outputs": []
    },
    {
      "cell_type": "code",
      "source": [
        "from google.colab import drive, files\n",
        "import pandas as pd\n",
        "import re\n",
        "import os\n",
        "\n",
        "# Google Drive'ı bağla\n",
        "drive.mount('/content/drive')"
      ],
      "metadata": {
        "colab": {
          "base_uri": "https://localhost:8080/"
        },
        "id": "V9nwk2VVh_uF",
        "outputId": "59d9735a-d5dc-47bc-f1de-acf6b938dd6a"
      },
      "execution_count": null,
      "outputs": [
        {
          "output_type": "stream",
          "name": "stdout",
          "text": [
            "Mounted at /content/drive\n"
          ]
        }
      ]
    },
    {
      "cell_type": "code",
      "source": [
        "df = ds['train'].to_pandas()\n",
        "print(df.head())\n",
        "df = df.drop(df.columns[:2], axis=1)\n",
        "df = df.tail(1000).reset_index(drop=True)\n",
        "df\n",
        "df[\"title\"]=df[\"title\"]+\" hakkında bilgi verir misin ?\"\n",
        "df.columns=[\"question\",\"answer\"]\n",
        "df.to_csv(\"data.csv\",index=False)\n"
      ],
      "metadata": {
        "colab": {
          "base_uri": "https://localhost:8080/"
        },
        "id": "HExWHkBRuIvw",
        "outputId": "d4e5430b-02b8-4af3-cf7b-4bf3138c6efc"
      },
      "execution_count": 45,
      "outputs": [
        {
          "output_type": "stream",
          "name": "stdout",
          "text": [
            "   id                                                url                title  \\\n",
            "0  10         https://tr.wikipedia.org/wiki/Cengiz%20Han           Cengiz Han   \n",
            "1  16  https://tr.wikipedia.org/wiki/Film%20%28anlam%...  Film (anlam ayrımı)   \n",
            "2  22      https://tr.wikipedia.org/wiki/Mustafa%20Suphi        Mustafa Suphi   \n",
            "3  24                https://tr.wikipedia.org/wiki/Linux                Linux   \n",
            "4  30       https://tr.wikipedia.org/wiki/Bol%C5%9Fevizm            Bolşevizm   \n",
            "\n",
            "                                                text  \n",
            "0  Cengiz Han (doğum adıyla Temuçin,  – 18 Ağusto...  \n",
            "1  Film şu anlamlara gelebilir:\\n\\n Camlara yapış...  \n",
            "2  Mehmed Mustafa Subhi (), kısaca Mustafa Suphi,...  \n",
            "3  Linux (telaffuz: Lin-uks); Linux çekirdeğine d...  \n",
            "4  Bolşevik, çoğunluktan yana anlamına gelen Rusç...  \n"
          ]
        }
      ]
    },
    {
      "cell_type": "code",
      "source": [
        "def clean_text(text):\n",
        "    \"\"\"Metindeki gereksiz boşlukları ve satır sonlarını temizler.\"\"\"\n",
        "    if pd.isna(text):\n",
        "        return \"\"\n",
        "\n",
        "    text = str(text)\n",
        "    cleaned = text.strip()\n",
        "    cleaned = re.sub(r'\\s+', ' ', cleaned)\n",
        "    cleaned = re.sub(r'\\n+', ' ', cleaned)\n",
        "    cleaned = re.sub(r'\\t+', ' ', cleaned)\n",
        "\n",
        "    return cleaned.strip()\n",
        "\n",
        "def clean_dataframe(df):\n",
        "    \"\"\"DataFrame'deki tüm sütunlardaki metinleri temizler.\"\"\"\n",
        "    cleaned_df = df.copy()\n",
        "\n",
        "    for col in cleaned_df.columns:\n",
        "        cleaned_df[col] = cleaned_df[col].apply(clean_text)\n",
        "\n",
        "    return cleaned_df\n",
        "\n",
        "def convert_to_llama_format(df, question_col, answer_col):\n",
        "    \"\"\"DataFrame'i LLAMA formatına dönüştürür.\"\"\"\n",
        "    formatted_data = []\n",
        "\n",
        "    for _, row in df.iterrows():\n",
        "        formatted_text = f\"<s>[INST] {row[question_col]} [/INST] {row[answer_col]} </s>\"\n",
        "        formatted_data.append(formatted_text)\n",
        "\n",
        "    return formatted_data\n"
      ],
      "metadata": {
        "id": "Mbwsv-rQiPj0"
      },
      "execution_count": null,
      "outputs": []
    },
    {
      "cell_type": "code",
      "source": [
        "def process_colab_pipeline():\n",
        "    \"\"\"\n",
        "    Colab'da çalışan tam işlem akışı:\n",
        "    1. Kullanıcıdan CSV yüklemesini ister\n",
        "    2. Verileri temizler\n",
        "    3. Temizlenmiş CSV'yi indirir\n",
        "    4. LLAMA formatına dönüştürür\n",
        "    5. LLAMA formatını indirir\n",
        "    \"\"\"\n",
        "    print(\"Lütfen CSV dosyanızı yükleyin...\")\n",
        "    uploaded = files.upload()\n",
        "\n",
        "    # Yüklenen dosyanın adını al\n",
        "    input_filename = list(uploaded.keys())[0]\n",
        "\n",
        "    # CSV'yi oku\n",
        "    print(f\"CSV okunuyor: {input_filename}\")\n",
        "    df = pd.read_csv(input_filename)\n",
        "    print(df.tail())\n",
        "\n",
        "    # Sütun isimlerini göster ve kullanıcıdan seçim iste\n",
        "    print(\"\\nCSV'nizdeki sütunlar:\")\n",
        "    for idx, col in enumerate(df.columns):\n",
        "        print(f\"{idx}: {col}\")\n",
        "\n",
        "    # Kullanıcıdan sütun seçimlerini al\n",
        "    question_col = df.columns[int(input(\"Soru sütununun numarasını girin: \"))]\n",
        "    answer_col = df.columns[int(input(\"Cevap sütununun numarasını girin: \"))]\n",
        "\n",
        "    # Verileri temizle\n",
        "    print(\"\\nVeriler temizleniyor...\")\n",
        "    cleaned_df = clean_dataframe(df)\n",
        "\n",
        "    # Temizlenmiş CSV'yi kaydet ve indir\n",
        "    cleaned_csv = \"temiz_\" + input_filename\n",
        "    cleaned_df.to_csv(cleaned_csv, index=False)\n",
        "    print(f\"\\nTemizlenmiş CSV indiriliyor: {cleaned_csv}\")\n",
        "    files.download(cleaned_csv)\n",
        "\n",
        "    # LLAMA formatına dönüştür\n",
        "    print(\"\\nVeriler LLAMA formatına dönüştürülüyor...\")\n",
        "    llama_formatted = convert_to_llama_format(cleaned_df, question_col, answer_col)\n",
        "\n",
        "    # LLAMA formatını dosyaya kaydet ve indir\n",
        "    llama_output = \"llama_format.txt\"\n",
        "    with open(llama_output, 'w', encoding='utf-8') as f:\n",
        "        for example in llama_formatted:\n",
        "            f.write(example + '\\n')\n",
        "\n",
        "    print(f\"\\nLLAMA format dosyası indiriliyor: {llama_output}\")\n",
        "    files.download(llama_output)\n",
        "\n",
        "    print(\"\\nİşlem tamamlandı!\")\n",
        "    print(f\"Toplam işlenen örnek sayısı: {len(cleaned_df)}\")\n",
        "\n",
        "    return cleaned_df, llama_formatted"
      ],
      "metadata": {
        "id": "sWVkcAd6h_wq"
      },
      "execution_count": null,
      "outputs": []
    },
    {
      "cell_type": "code",
      "source": [
        "temiz_df, llama_verileri = process_colab_pipeline()"
      ],
      "metadata": {
        "id": "DBahyzq4h_y9"
      },
      "execution_count": null,
      "outputs": []
    }
  ]
}